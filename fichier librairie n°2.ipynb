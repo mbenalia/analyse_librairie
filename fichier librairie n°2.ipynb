{
 "cells": [
  {
   "cell_type": "markdown",
   "id": "80b3393d",
   "metadata": {
    "heading_collapsed": true
   },
   "source": [
    "# Import transactions.csv"
   ]
  },
  {
   "cell_type": "code",
   "execution_count": 1,
   "id": "bb0c1ef5",
   "metadata": {
    "hidden": true
   },
   "outputs": [
    {
     "name": "stdout",
     "output_type": "stream",
     "text": [
      "       id_prod                        date session_id client_id\n",
      "0       0_1483  2021-04-10 18:37:28.723910    s_18746    c_4450\n",
      "1        2_226  2022-02-03 01:55:53.276402   s_159142     c_277\n",
      "2        1_374  2021-09-23 15:13:46.938559    s_94290    c_4270\n",
      "3       0_2186  2021-10-17 03:27:18.783634   s_105936    c_4597\n",
      "4       0_1351  2021-07-17 20:34:25.800563    s_63642    c_1242\n",
      "...        ...                         ...        ...       ...\n",
      "337011   1_671  2021-05-28 12:35:46.214839    s_40720    c_3454\n",
      "337012   0_759  2021-06-19 00:19:23.917703    s_50568    c_6268\n",
      "337013  0_1256  2021-03-16 17:31:59.442007     s_7219    c_4137\n",
      "337014   2_227  2021-10-30 16:50:15.997750   s_112349       c_5\n",
      "337015  0_1417  2021-06-26 14:38:19.732946    s_54117    c_6714\n",
      "\n",
      "[337016 rows x 4 columns]\n"
     ]
    }
   ],
   "source": [
    "import pandas as pd\n",
    "\n",
    "# Charger le fichier CSV dans un DataFrame\n",
    "df = pd.read_csv('transactions.csv')\n",
    "\n",
    "# Afficher les premières lignes du DataFrame pour vérification\n",
    "print(df)\n"
   ]
  },
  {
   "cell_type": "markdown",
   "id": "5bed5e7a",
   "metadata": {
    "heading_collapsed": true
   },
   "source": [
    "# Import costomers.csv"
   ]
  },
  {
   "cell_type": "code",
   "execution_count": 4,
   "id": "e6541d9a",
   "metadata": {
    "hidden": true
   },
   "outputs": [
    {
     "name": "stdout",
     "output_type": "stream",
     "text": [
      "     client_id sex  birth\n",
      "0       c_4410   f   1967\n",
      "1       c_7839   f   1975\n",
      "2       c_1699   f   1984\n",
      "3       c_5961   f   1962\n",
      "4       c_5320   m   1943\n",
      "...        ...  ..    ...\n",
      "8618    c_7920   m   1956\n",
      "8619    c_7403   f   1970\n",
      "8620    c_5119   m   1974\n",
      "8621    c_5643   f   1968\n",
      "8622      c_84   f   1982\n",
      "\n",
      "[8623 rows x 3 columns]\n"
     ]
    }
   ],
   "source": [
    "import pandas as pd\n",
    "\n",
    "# Charger le fichier CSV dans un DataFrame\n",
    "df = pd.read_csv('customers.csv')\n",
    "\n",
    "# Afficher les premières lignes du DataFrame pour vérification\n",
    "print(df)"
   ]
  },
  {
   "cell_type": "markdown",
   "id": "6a1456eb",
   "metadata": {
    "heading_collapsed": true
   },
   "source": [
    "# Import products.csv"
   ]
  },
  {
   "cell_type": "code",
   "execution_count": 5,
   "id": "9bc6d0ac",
   "metadata": {
    "hidden": true
   },
   "outputs": [
    {
     "name": "stdout",
     "output_type": "stream",
     "text": [
      "     id_prod   price  categ\n",
      "0     0_1421   19.99      0\n",
      "1     0_1368    5.13      0\n",
      "2      0_731   17.99      0\n",
      "3      1_587    4.99      1\n",
      "4     0_1507    3.99      0\n",
      "...      ...     ...    ...\n",
      "3282    2_23  115.99      2\n",
      "3283   0_146   17.14      0\n",
      "3284   0_802   11.22      0\n",
      "3285   1_140   38.56      1\n",
      "3286  0_1920   25.16      0\n",
      "\n",
      "[3287 rows x 3 columns]\n"
     ]
    }
   ],
   "source": [
    "import pandas as pd\n",
    "\n",
    "# Charger le fichier CSV dans un DataFrame\n",
    "df = pd.read_csv('products.csv')\n",
    "\n",
    "# Afficher les premières lignes du DataFrame pour vérification\n",
    "print(df)"
   ]
  },
  {
   "cell_type": "markdown",
   "id": "76030047",
   "metadata": {
    "heading_collapsed": true
   },
   "source": [
    "# Fusion des fichiers csv"
   ]
  },
  {
   "cell_type": "code",
   "execution_count": 6,
   "id": "a836b482",
   "metadata": {
    "hidden": true
   },
   "outputs": [
    {
     "name": "stdout",
     "output_type": "stream",
     "text": [
      "  id_prod                        date session_id client_id  price  categ sex  \\\n",
      "0  0_1483  2021-04-10 18:37:28.723910    s_18746    c_4450   4.99      0   f   \n",
      "1  0_1085  2021-09-29 11:14:59.793823    s_97382    c_4450   3.99      0   f   \n",
      "2  0_1453  2021-08-27 19:50:46.796939    s_81509    c_4450   7.99      0   f   \n",
      "3  0_1405  2021-08-27 20:07:25.878440    s_81509    c_4450   4.99      0   f   \n",
      "4  0_1392  2021-12-28 11:45:04.072281   s_141302    c_4450   6.30      0   f   \n",
      "\n",
      "   birth  \n",
      "0   1977  \n",
      "1   1977  \n",
      "2   1977  \n",
      "3   1977  \n",
      "4   1977  \n"
     ]
    }
   ],
   "source": [
    "import pandas as pd\n",
    "\n",
    "# Charger les fichiers CSV dans des DataFrames distincts\n",
    "products_df = pd.read_csv('products.csv')\n",
    "customers_df = pd.read_csv('customers.csv')\n",
    "transactions_df = pd.read_csv('transactions.csv')\n",
    "\n",
    "# Fusionner les DataFrames\n",
    "merged_df = pd.merge(transactions_df, products_df, on='id_prod', how='inner')\n",
    "merged_df = pd.merge(merged_df, customers_df, on='client_id', how='inner')\n",
    "\n",
    "# Vérifier la fusion\n",
    "print(merged_df.head())\n",
    "\n",
    "# Enregistrer le DataFrame fusionné dans un fichier CSV\n",
    "merged_df.to_csv('fusion2.csv', index=False)\n"
   ]
  },
  {
   "cell_type": "markdown",
   "id": "1e9fc8fd",
   "metadata": {
    "heading_collapsed": true
   },
   "source": [
    "# Extraction des personnes n'ayant pas passé de commande"
   ]
  },
  {
   "cell_type": "code",
   "execution_count": 60,
   "id": "4c8f2aa7",
   "metadata": {
    "hidden": true,
    "scrolled": true
   },
   "outputs": [
    {
     "name": "stdout",
     "output_type": "stream",
     "text": [
      "Personnes n'ayant pas passé de commande : {'c_6735', 'c_8381', 'c_6930', 'c_90', 'c_5245', 'c_5223', 'c_7584', 'c_8253', 'c_4406', 'c_1223', 'c_862', 'c_4447', 'c_3789', 'c_587', 'c_6862', 'c_3017', 'c_2706', 'c_4086', 'c_3443', 'c_4358', 'c_3526'}\n"
     ]
    }
   ],
   "source": [
    "import pandas as pd\n",
    "\n",
    "transactions_df = pd.read_csv('transactions.csv')\n",
    "products_df = pd.read_csv('products.csv')\n",
    "customers_df = pd.read_csv('customers.csv')\n",
    "\n",
    "personnes_avec_commande = set(df_merged['client_id'])\n",
    "\n",
    "toutes_les_personnes = set(customers_df['client_id'])\n",
    "\n",
    "personnes_sans_commande = toutes_les_personnes - personnes_avec_commande\n",
    "\n",
    "print(\"Personnes n'ayant pas passé de commande :\", personnes_sans_commande)"
   ]
  },
  {
   "cell_type": "code",
   "execution_count": null,
   "id": "a9e8c65b",
   "metadata": {
    "hidden": true
   },
   "outputs": [],
   "source": [
    "import pandas as pd\n",
    "\n",
    "personnes_sans_commande = ['c_6735', 'c_8381', 'c_6930', 'c_90', 'c_5245', 'c_5223', 'c_7584', 'c_8253', 'c_4406', 'c_1223', 'c_862', 'c_4447', 'c_3789', 'c_587', 'c_6862', 'c_3017', 'c_2706', 'c_4086', 'c_3443', 'c_4358', 'c_3526']\n",
    "\n",
    "df_personnes_sans_commande = pd.DataFrame(personnes_sans_commande, columns=['Client'])\n",
    "\n",
    "chemin_fichier = 'personnes_sans_commande.csv'\n",
    "\n",
    "df_personnes_sans_commande.to_csv(chemin_fichier, index=False)\n",
    "\n",
    "print(\"Les personnes n'ayant pas passé de commande ont été exportées vers\", chemin_fichier)\n"
   ]
  },
  {
   "cell_type": "markdown",
   "id": "45cea888",
   "metadata": {
    "heading_collapsed": true
   },
   "source": [
    "# Extraction Produits qui ne se sont pas vendus"
   ]
  },
  {
   "cell_type": "code",
   "execution_count": 43,
   "id": "cc589934",
   "metadata": {
    "hidden": true
   },
   "outputs": [
    {
     "name": "stdout",
     "output_type": "stream",
     "text": [
      "Produits qui ne se sont pas vendus : {'0_1014', '0_1119', '0_1025', '0_299', '0_310', '2_72', '1_0', '2_87', '2_86', '0_2308', '0_525', '0_1645', '1_394', '0_1624', '0_510', '0_1620', '0_1318', '0_1780', '0_1800', '0_1016', '0_322', '0_1062'}\n"
     ]
    }
   ],
   "source": [
    "import pandas as pd\n",
    "\n",
    "transactions_df = pd.read_csv('transactions.csv')\n",
    "products_df = pd.read_csv('products.csv')\n",
    "customers_df = pd.read_csv('customers.csv')\n",
    "\n",
    "tous_les_produits = set(products_df['id_prod'])\n",
    "\n",
    "produits_vendus = set(transactions_df['id_prod'])\n",
    "\n",
    "produits_non_vendus = tous_les_produits - produits_vendus\n",
    "\n",
    "print(\"Produits qui ne se sont pas vendus :\", produits_non_vendus)\n"
   ]
  },
  {
   "cell_type": "code",
   "execution_count": 61,
   "id": "29a1aec8",
   "metadata": {
    "hidden": true
   },
   "outputs": [
    {
     "name": "stdout",
     "output_type": "stream",
     "text": [
      "Les produits non vendus ont été exportés vers produits_non_vendus1.csv\n"
     ]
    }
   ],
   "source": [
    "import pandas as pd\n",
    "\n",
    "produits_non_vendus1 = ['0_1014', '0_1119', '0_1025', '0_299', '0_310', '2_72', '1_0', '2_87', \n",
    "    '2_86', '0_2308', '0_525', '0_1645', '1_394', '0_1624', '0_510', '0_1620', \n",
    "    '0_1318', '0_1780', '0_1800', '0_1016', '0_322', '0_1062']\n",
    "\n",
    "df_produits_non_vendus1 = pd.DataFrame(produits_non_vendus1, columns=['Produit'])\n",
    "\n",
    "chemin_fichier = 'produits_non_vendus1.csv'\n",
    "\n",
    "df_produits_non_vendus1.to_csv(chemin_fichier, index=False)\n",
    "\n",
    "print(\"Les produits non vendus ont été exportés vers\", chemin_fichier)\n"
   ]
  },
  {
   "cell_type": "code",
   "execution_count": 47,
   "id": "ad6694b0",
   "metadata": {
    "hidden": true
   },
   "outputs": [],
   "source": [
    "prod_trans_ids = transactions_df['id_prod'].unique()\n",
    "unsold_prod = products_df[~products_df['id_prod'].isin(prod_trans_ids)]\n",
    "cust_trans_ids = transactions_df['client_id'].unique()\n",
    "inactive_cust = customers_df[~customers_df['client_id'].isin(cust_trans_ids)]\n",
    "products = products_df[products_df['id_prod'].isin(prod_trans_ids)]\n",
    "customers = customers_df[customers_df['client_id'].isin(cust_trans_ids)]"
   ]
  },
  {
   "cell_type": "markdown",
   "id": "e8b1c7a7",
   "metadata": {
    "heading_collapsed": true
   },
   "source": [
    "# Taux de conversion"
   ]
  },
  {
   "cell_type": "code",
   "execution_count": 14,
   "id": "95618f1a",
   "metadata": {
    "hidden": true
   },
   "outputs": [
    {
     "name": "stdout",
     "output_type": "stream",
     "text": [
      "Taux de conversion : 99.98%\n"
     ]
    }
   ],
   "source": [
    "import pandas as pd\n",
    "\n",
    "fusion_df = pd.read_csv('fusion2.csv')\n",
    "\n",
    "nombre_total_clients = fusion_df['client_id'].nunique()\n",
    "\n",
    "clients_ayant_commande = fusion_df[fusion_df['price'] > 0]['client_id'].nunique()\n",
    "\n",
    "taux_conversion = (clients_ayant_commande / nombre_total_clients) * 100\n",
    "\n",
    "print(\"Taux de conversion : {:.2f}%\".format(taux_conversion))\n",
    "\n"
   ]
  },
  {
   "cell_type": "markdown",
   "id": "bd3a5f5e",
   "metadata": {
    "heading_collapsed": true
   },
   "source": [
    "# Distribution années de naissance et des genres"
   ]
  },
  {
   "cell_type": "code",
   "execution_count": 29,
   "id": "4c23db8d",
   "metadata": {
    "hidden": true
   },
   "outputs": [
    {
     "data": {
      "image/png": "[encoded data removed]",
      "text/plain": [
       "<Figure size 1000x600 with 1 Axes>"
      ]
     },
     "metadata": {},
     "output_type": "display_data"
    },
    {
     "data": {
      "image/png": "[encoded data removed]",
      "text/plain": [
       "<Figure size 700x500 with 1 Axes>"
      ]
     },
     "metadata": {},
     "output_type": "display_data"
    }
   ],
   "source": [
    "import seaborn as sns\n",
    "import matplotlib.pyplot as plt\n",
    "\n",
    "plt.figure(figsize=(10, 6))\n",
    "sns.histplot(customers_df['birth'], bins=30, kde=True)\n",
    "plt.title('Distribution des années de naissance')\n",
    "plt.xlabel('Année de naissance')\n",
    "plt.ylabel('Fréquence')\n",
    "plt.show()\n",
    "\n",
    "plt.figure(figsize=(7, 5))\n",
    "sns.countplot(x='sex', data=customers_df)\n",
    "plt.title('Distribution du genre')\n",
    "plt.xlabel('Genre')\n",
    "plt.ylabel('Nombre')\n",
    "plt.show()\n"
   ]
  },
  {
   "cell_type": "markdown",
   "id": "63d2b1d0",
   "metadata": {
    "heading_collapsed": true
   },
   "source": [
    "# 1. la corrélation entre le genre d’un client et les catégories des livres achetés"
   ]
  },
  {
   "cell_type": "code",
   "execution_count": 1,
   "id": "217ecb4e",
   "metadata": {
    "hidden": true
   },
   "outputs": [
    {
     "data": {
      "image/png": "[encoded data removed]",
      "text/plain": [
       "<Figure size 1000x600 with 1 Axes>"
      ]
     },
     "metadata": {},
     "output_type": "display_data"
    }
   ],
   "source": [
    "import pandas as pd\n",
    "import seaborn as sns\n",
    "import matplotlib.pyplot as plt\n",
    "\n",
    "df_merged = pd.read_csv('fusion2.csv')\n",
    "\n",
    "contingency_table = pd.crosstab(df_merged['sex'], df_merged['categ'])\n",
    "\n",
    "plot_data = contingency_table.reset_index().melt(id_vars='sex', var_name='category', value_name='count')\n",
    "\n",
    "plt.figure(figsize=(10, 6))\n",
    "sns.barplot(data=plot_data, x='category', y='count', hue='sex', palette='coolwarm')\n",
    "plt.title('Corrélation entre le genre et les catégories des livres achetés')\n",
    "plt.xlabel('Catégories des livres')\n",
    "plt.ylabel('Nombre de transactions')\n",
    "plt.legend(title='Sexe')\n",
    "plt.xticks(rotation=45)\n",
    "plt.tight_layout()\n",
    "plt.show()"
   ]
  },
  {
   "cell_type": "markdown",
   "id": "b129ad23",
   "metadata": {
    "heading_collapsed": true
   },
   "source": [
    "# 1. coefficient de corrélation de Pearson et la p-value"
   ]
  },
  {
   "cell_type": "raw",
   "id": "6f96ba19",
   "metadata": {
    "hidden": true
   },
   "source": [
    "nous créons une table de contingence en utilisant ‘pd.crosstab()’, qui comptabilise le nombre d'occurrences de chaque combinaison de catégorie et de genre. Enfin, nous calculons le coefficient de corrélation de Pearson et la p-value en utilisant ‘chi2_contingency()' de la bibliothèque scipy.stats."
   ]
  },
  {
   "cell_type": "code",
   "execution_count": 4,
   "id": "50a6cf74",
   "metadata": {
    "hidden": true,
    "scrolled": true
   },
   "outputs": [
    {
     "name": "stdout",
     "output_type": "stream",
     "text": [
      "Table de contingence entre le genre et les catégories :\n",
      " categ       0      1     2\n",
      "sex                       \n",
      "f      103892  55469  8260\n",
      "m      105734  54266  9292\n",
      "\n",
      "Coefficient de corrélation de Pearson : 81.76651815242087\n",
      "p-value : 1.756411132058017e-18\n"
     ]
    }
   ],
   "source": [
    "import pandas as pd\n",
    "from scipy.stats import chi2_contingency\n",
    "\n",
    "contingency_table = pd.crosstab(df_merged['sex'], df_merged['categ'])\n",
    "\n",
    "print(\"Table de contingence entre le genre et les catégories :\\n\", contingency_table)\n",
    "\n",
    "correlation_coefficient, p_value, _, _ = chi2_contingency(contingency_table)\n",
    "print(\"\\nCoefficient de corrélation de Pearson :\", correlation_coefficient)\n",
    "print(\"p-value :\", p_value)\n"
   ]
  },
  {
   "cell_type": "raw",
   "id": "361a19d4",
   "metadata": {
    "hidden": true
   },
   "source": [
    "La table de contingence que vous avez obtenue montre le nombre d'occurrences pour chaque combinaison de genre (`sex`) et de catégorie (`categ`). Le coefficient de corrélation de Pearson mesuré à partir de cette table est de 81.77, ce qui indique une forte corrélation entre le genre et les catégories des livres achetés. \n",
    "\n",
    "La p-value associée est très faible (1.76e-18), ce qui suggère que cette corrélation observée est statistiquement significative."
   ]
  },
  {
   "cell_type": "markdown",
   "id": "1b3bcc5a",
   "metadata": {
    "heading_collapsed": true
   },
   "source": [
    "# 1. test ANOVA"
   ]
  },
  {
   "cell_type": "code",
   "execution_count": null,
   "id": "6e3e0827",
   "metadata": {
    "hidden": true
   },
   "outputs": [],
   "source": [
    "Dans cet exemple, nous divisons les données en deux groupes basés sur le genre \n",
    "('f' pour les femmes et 'm' pour les hommes), puis nous utilisons la fonction \n",
    "'f_oneway' pour effectuer le test ANOVA. La statistique F et la p-value associée\n",
    "sont imprimées pour évaluer si les moyennes des catégories de livres achetés\n",
    "diffèrent significativement entre les deux groupes de genre."
   ]
  },
  {
   "cell_type": "code",
   "execution_count": 6,
   "id": "0fc688e6",
   "metadata": {
    "hidden": true
   },
   "outputs": [
    {
     "name": "stdout",
     "output_type": "stream",
     "text": [
      "Statistique F : 0.17289399041888573\n",
      "p-value : 0.6775527953018707\n"
     ]
    }
   ],
   "source": [
    "from scipy.stats import f_oneway\n",
    "\n",
    "group_f = df_merged[df_merged['sex'] == 'f']['categ']\n",
    "group_m = df_merged[df_merged['sex'] == 'm']['categ']\n",
    "\n",
    "f_statistic, p_value = f_oneway(group_f, group_m)\n",
    "\n",
    "print(\"Statistique F :\", f_statistic)\n",
    "print(\"p-value :\", p_value)\n"
   ]
  },
  {
   "cell_type": "raw",
   "id": "a1d99aa5",
   "metadata": {
    "hidden": true
   },
   "source": [
    "Le test ANOVA a donné une statistique F de 0.173 et une p-value de 0.678. \n",
    "\n",
    "Cela signifie que la différence entre les moyennes des catégories de livres achetés pour chaque genre de client n'est pas statistiquement significative, car la p-value est supérieure à un seuil de signification typique de 0.05. \n",
    "\n",
    "En d'autres termes, nous ne pouvons pas rejeter l'hypothèse nulle selon laquelle les moyennes des catégories de livres achetés sont égales pour les deux groupes de genre (femmes et hommes)."
   ]
  },
  {
   "cell_type": "markdown",
   "id": "bc047d0b",
   "metadata": {
    "heading_collapsed": true
   },
   "source": [
    "# Dataframe"
   ]
  },
  {
   "cell_type": "code",
   "execution_count": 57,
   "id": "7ce6c49a",
   "metadata": {
    "hidden": true,
    "scrolled": true
   },
   "outputs": [
    {
     "data": {
      "text/html": [
       "<div>\n",
       "<style scoped>\n",
       "    .dataframe tbody tr th:only-of-type {\n",
       "        vertical-align: middle;\n",
       "    }\n",
       "\n",
       "    .dataframe tbody tr th {\n",
       "        vertical-align: top;\n",
       "    }\n",
       "\n",
       "    .dataframe thead th {\n",
       "        text-align: right;\n",
       "    }\n",
       "</style>\n",
       "<table border=\"1\" class=\"dataframe\">\n",
       "  <thead>\n",
       "    <tr style=\"text-align: right;\">\n",
       "      <th></th>\n",
       "      <th>id_prod</th>\n",
       "      <th>date</th>\n",
       "      <th>session_id</th>\n",
       "      <th>client_id</th>\n",
       "      <th>price</th>\n",
       "      <th>categ</th>\n",
       "      <th>sex</th>\n",
       "      <th>birth</th>\n",
       "      <th>nb-com</th>\n",
       "    </tr>\n",
       "  </thead>\n",
       "  <tbody>\n",
       "    <tr>\n",
       "      <th>0</th>\n",
       "      <td>0_1483</td>\n",
       "      <td>2021-04-10 18:37:28.723910</td>\n",
       "      <td>s_18746</td>\n",
       "      <td>c_4450</td>\n",
       "      <td>4.99</td>\n",
       "      <td>0</td>\n",
       "      <td>f</td>\n",
       "      <td>1977</td>\n",
       "      <td>44</td>\n",
       "    </tr>\n",
       "    <tr>\n",
       "      <th>1</th>\n",
       "      <td>0_1085</td>\n",
       "      <td>2021-09-29 11:14:59.793823</td>\n",
       "      <td>s_97382</td>\n",
       "      <td>c_4450</td>\n",
       "      <td>3.99</td>\n",
       "      <td>0</td>\n",
       "      <td>f</td>\n",
       "      <td>1977</td>\n",
       "      <td>44</td>\n",
       "    </tr>\n",
       "    <tr>\n",
       "      <th>2</th>\n",
       "      <td>0_1453</td>\n",
       "      <td>2021-08-27 19:50:46.796939</td>\n",
       "      <td>s_81509</td>\n",
       "      <td>c_4450</td>\n",
       "      <td>7.99</td>\n",
       "      <td>0</td>\n",
       "      <td>f</td>\n",
       "      <td>1977</td>\n",
       "      <td>44</td>\n",
       "    </tr>\n",
       "    <tr>\n",
       "      <th>3</th>\n",
       "      <td>0_1405</td>\n",
       "      <td>2021-08-27 20:07:25.878440</td>\n",
       "      <td>s_81509</td>\n",
       "      <td>c_4450</td>\n",
       "      <td>4.99</td>\n",
       "      <td>0</td>\n",
       "      <td>f</td>\n",
       "      <td>1977</td>\n",
       "      <td>44</td>\n",
       "    </tr>\n",
       "    <tr>\n",
       "      <th>4</th>\n",
       "      <td>0_1392</td>\n",
       "      <td>2021-12-28 11:45:04.072281</td>\n",
       "      <td>s_141302</td>\n",
       "      <td>c_4450</td>\n",
       "      <td>6.30</td>\n",
       "      <td>0</td>\n",
       "      <td>f</td>\n",
       "      <td>1977</td>\n",
       "      <td>44</td>\n",
       "    </tr>\n",
       "    <tr>\n",
       "      <th>...</th>\n",
       "      <td>...</td>\n",
       "      <td>...</td>\n",
       "      <td>...</td>\n",
       "      <td>...</td>\n",
       "      <td>...</td>\n",
       "      <td>...</td>\n",
       "      <td>...</td>\n",
       "      <td>...</td>\n",
       "      <td>...</td>\n",
       "    </tr>\n",
       "    <tr>\n",
       "      <th>336908</th>\n",
       "      <td>1_607</td>\n",
       "      <td>2021-09-25 07:26:00.224331</td>\n",
       "      <td>s_95185</td>\n",
       "      <td>c_4786</td>\n",
       "      <td>26.99</td>\n",
       "      <td>1</td>\n",
       "      <td>f</td>\n",
       "      <td>1967</td>\n",
       "      <td>1</td>\n",
       "    </tr>\n",
       "    <tr>\n",
       "      <th>336909</th>\n",
       "      <td>1_673</td>\n",
       "      <td>2021-06-01 00:49:49.781631</td>\n",
       "      <td>s_42350</td>\n",
       "      <td>c_2793</td>\n",
       "      <td>12.99</td>\n",
       "      <td>1</td>\n",
       "      <td>m</td>\n",
       "      <td>1933</td>\n",
       "      <td>2</td>\n",
       "    </tr>\n",
       "    <tr>\n",
       "      <th>336910</th>\n",
       "      <td>0_2075</td>\n",
       "      <td>2021-10-09 09:03:48.268536</td>\n",
       "      <td>s_102200</td>\n",
       "      <td>c_2793</td>\n",
       "      <td>8.99</td>\n",
       "      <td>0</td>\n",
       "      <td>m</td>\n",
       "      <td>1933</td>\n",
       "      <td>2</td>\n",
       "    </tr>\n",
       "    <tr>\n",
       "      <th>336911</th>\n",
       "      <td>0_1692</td>\n",
       "      <td>2021-09-15 19:42:08.596375</td>\n",
       "      <td>s_90430</td>\n",
       "      <td>c_4478</td>\n",
       "      <td>13.36</td>\n",
       "      <td>0</td>\n",
       "      <td>f</td>\n",
       "      <td>1970</td>\n",
       "      <td>1</td>\n",
       "    </tr>\n",
       "    <tr>\n",
       "      <th>336912</th>\n",
       "      <td>0_142</td>\n",
       "      <td>2021-09-25 18:07:25.880052</td>\n",
       "      <td>s_95415</td>\n",
       "      <td>c_1232</td>\n",
       "      <td>19.85</td>\n",
       "      <td>0</td>\n",
       "      <td>f</td>\n",
       "      <td>1960</td>\n",
       "      <td>1</td>\n",
       "    </tr>\n",
       "  </tbody>\n",
       "</table>\n",
       "<p>336913 rows × 9 columns</p>\n",
       "</div>"
      ],
      "text/plain": [
       "       id_prod                        date session_id client_id  price  categ  \\\n",
       "0       0_1483  2021-04-10 18:37:28.723910    s_18746    c_4450   4.99      0   \n",
       "1       0_1085  2021-09-29 11:14:59.793823    s_97382    c_4450   3.99      0   \n",
       "2       0_1453  2021-08-27 19:50:46.796939    s_81509    c_4450   7.99      0   \n",
       "3       0_1405  2021-08-27 20:07:25.878440    s_81509    c_4450   4.99      0   \n",
       "4       0_1392  2021-12-28 11:45:04.072281   s_141302    c_4450   6.30      0   \n",
       "...        ...                         ...        ...       ...    ...    ...   \n",
       "336908   1_607  2021-09-25 07:26:00.224331    s_95185    c_4786  26.99      1   \n",
       "336909   1_673  2021-06-01 00:49:49.781631    s_42350    c_2793  12.99      1   \n",
       "336910  0_2075  2021-10-09 09:03:48.268536   s_102200    c_2793   8.99      0   \n",
       "336911  0_1692  2021-09-15 19:42:08.596375    s_90430    c_4478  13.36      0   \n",
       "336912   0_142  2021-09-25 18:07:25.880052    s_95415    c_1232  19.85      0   \n",
       "\n",
       "       sex  birth  nb-com  \n",
       "0        f   1977      44  \n",
       "1        f   1977      44  \n",
       "2        f   1977      44  \n",
       "3        f   1977      44  \n",
       "4        f   1977      44  \n",
       "...     ..    ...     ...  \n",
       "336908   f   1967       1  \n",
       "336909   m   1933       2  \n",
       "336910   m   1933       2  \n",
       "336911   f   1970       1  \n",
       "336912   f   1960       1  \n",
       "\n",
       "[336913 rows x 9 columns]"
      ]
     },
     "execution_count": 57,
     "metadata": {},
     "output_type": "execute_result"
    }
   ],
   "source": [
    "df_merged"
   ]
  }
 ],
 "metadata": {
  "kernelspec": {
   "display_name": "Python 3 (ipykernel)",
   "language": "python",
   "name": "python3"
  },
  "language_info": {
   "codemirror_mode": {
    "name": "ipython",
    "version": 3
   },
   "file_extension": ".py",
   "mimetype": "text/x-python",
   "name": "python",
   "nbconvert_exporter": "python",
   "pygments_lexer": "ipython3",
   "version": "3.10.6"
  },
  "toc": {
   "base_numbering": 1,
   "nav_menu": {},
   "number_sections": true,
   "sideBar": true,
   "skip_h1_title": false,
   "title_cell": "Table of Contents",
   "title_sidebar": "Contents",
   "toc_cell": false,
   "toc_position": {},
   "toc_section_display": true,
   "toc_window_display": false
  }
 },
 "nbformat": 4,
 "nbformat_minor": 5
}
